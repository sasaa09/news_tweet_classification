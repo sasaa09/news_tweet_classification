{
  "nbformat": 4,
  "nbformat_minor": 0,
  "metadata": {
    "colab": {
      "name": "news-tweet-classification-service",
      "provenance": [],
      "toc_visible": true
    },
    "kernelspec": {
      "display_name": "Python 3",
      "name": "python3"
    },
    "language_info": {
      "name": "python"
    }
  },
  "cells": [
    {
      "cell_type": "code",
      "metadata": {
        "id": "1sUzC0xQz4cx"
      },
      "source": [
        "!wget \"https://github.com/bernardadhitya/news-tweet-classification/raw/master/model.pkl\""
      ],
      "execution_count": null,
      "outputs": []
    },
    {
      "cell_type": "code",
      "metadata": {
        "id": "e4cjysj4_nnK"
      },
      "source": [
        "!pip install flask-ngrok\n",
        "!pip install -U flask-cors"
      ],
      "execution_count": null,
      "outputs": []
    },
    {
      "cell_type": "markdown",
      "metadata": {
        "id": "BViwiVmmGMed"
      },
      "source": [
        "### Fetch Recent Tweets"
      ]
    },
    {
      "cell_type": "code",
      "metadata": {
        "id": "speN03taCrbN"
      },
      "source": [
        "consumer_key = 'HesPOfbPcUp3mc6D9aRvItAnU'\n",
        "consumer_secret = 'nQ0owQEVXLwgJEwfO50ifrEYD9zyXDD37Jf3SIwF9ugKkbnFV9'\n",
        "access_token = '307762558-VXeWvKTZEsIaVYX0yCDzVm8gw1aJOyPp2hC4PGgw'\n",
        "access_token_secret = 'jFgyvRlWu4FjcDBXhIC7ngZjq7ri1lrAdvjlngZp6bjJB'"
      ],
      "execution_count": null,
      "outputs": []
    },
    {
      "cell_type": "code",
      "metadata": {
        "id": "tbyd0wjKCtiA"
      },
      "source": [
        "import tweepy\n",
        "\n",
        "auth = tweepy.OAuthHandler(consumer_key, consumer_secret)\n",
        "auth.set_access_token(access_token, access_token_secret)\n",
        "\n",
        "api = tweepy.API(auth)"
      ],
      "execution_count": null,
      "outputs": []
    },
    {
      "cell_type": "code",
      "metadata": {
        "id": "XIrLxFpbCvDq"
      },
      "source": [
        "list_of_news_accounts = [\n",
        "                          'cnn',\n",
        "                          'nytimes',\n",
        "                          'bbcbreaking',\n",
        "                          'bbcworld',\n",
        "                          'theeconomist',\n",
        "                          'telegraph',\n",
        "                          'guardiannews',\n",
        "                          'cnbc',\n",
        "                          'ajenglish',\n",
        "                          'breakingnews',\n",
        "                          'huffpost',\n",
        "                          'washingtonpost',\n",
        "                          'abc',\n",
        "                          'wsj',\n",
        "                          'time'\n",
        "                        ]"
      ],
      "execution_count": null,
      "outputs": []
    },
    {
      "cell_type": "code",
      "metadata": {
        "id": "lTcPoJn61Mw1"
      },
      "source": [
        "import pickle\n",
        "\n",
        "model = pickle.load(open('model.pkl','rb'))\n",
        "\n",
        "def predict_category(tweet):\n",
        "  tweet_text = tweet['text']\n",
        "  tweet_category = model.predict([tweet_text])[0]\n",
        "  tweet_classified = tweet\n",
        "  tweet_classified['category'] = tweet_category\n",
        "  return tweet_classified"
      ],
      "execution_count": null,
      "outputs": []
    },
    {
      "cell_type": "code",
      "metadata": {
        "id": "-CjZ4NEwEJ8E"
      },
      "source": [
        "tweets_raw = []\n",
        "for news_account in list_of_news_accounts:\n",
        "  tweets_in_news_account = api.user_timeline(id=news_account)\n",
        "  for tweet in tweets_in_news_account:\n",
        "    tweets_raw.append(tweet)\n",
        "\n",
        "import re\n",
        "\n",
        "tweets = []\n",
        "for tweet_raw in tweets_raw:\n",
        "  tweet_text = re.sub(r'http\\S+', '', tweet_raw.text)\n",
        "  tweet_text = re.sub(r'[^A-Za-z0-9 ]+', '', tweet_text)\n",
        "  tweet_text = tweet_text.replace('  ', ' ')\n",
        "  tweet = {\n",
        "      'url': 'https://twitter.com/twitter/statuses/' + tweet_raw.id_str,\n",
        "      'username': tweet_raw.user.name.lower(),\n",
        "      'text': tweet_text,\n",
        "      'time': tweet_raw.created_at,\n",
        "      'likes': tweet_raw.favorite_count,\n",
        "      'retweets': tweet_raw.retweet_count,\n",
        "      'profile_picture': tweet_raw.user.profile_image_url_https\n",
        "  }\n",
        "  tweet_classified = predict_category(tweet)\n",
        "  tweets.append(tweet_classified)"
      ],
      "execution_count": null,
      "outputs": []
    },
    {
      "cell_type": "markdown",
      "metadata": {
        "id": "3QEEsPJ0GU2S"
      },
      "source": [
        "### Endpoints"
      ]
    },
    {
      "cell_type": "code",
      "metadata": {
        "colab": {
          "background_save": true,
          "base_uri": "https://localhost:8080/"
        },
        "id": "2OeUArfU_mgv",
        "outputId": "d4be9594-1a71-4306-c615-0ab44b80f4c2"
      },
      "source": [
        "from flask_ngrok import run_with_ngrok\n",
        "from flask import Flask, jsonify, request\n",
        "from flask_cors import CORS\n",
        "import codecs\n",
        "import csv\n",
        "import pandas as pd\n",
        "\n",
        "app = Flask(__name__)\n",
        "CORS(app)\n",
        "run_with_ngrok(app)\n",
        "\n",
        "@app.route(\"/\")\n",
        "def home():\n",
        "    return \"<h1>Running Flask on Google Colab!</h1>\"\n",
        "\n",
        "@app.route('/tweets', methods=['GET'])\n",
        "def get_all_tweets():\n",
        "    return { 'tweets': tweets }\n",
        "  \n",
        "app.run()"
      ],
      "execution_count": null,
      "outputs": [
        {
          "output_type": "stream",
          "text": [
            " * Serving Flask app \"__main__\" (lazy loading)\n",
            " * Environment: production\n",
            "\u001b[31m   WARNING: This is a development server. Do not use it in a production deployment.\u001b[0m\n",
            "\u001b[2m   Use a production WSGI server instead.\u001b[0m\n",
            " * Debug mode: off\n"
          ],
          "name": "stdout"
        },
        {
          "output_type": "stream",
          "text": [
            " * Running on http://127.0.0.1:5000/ (Press CTRL+C to quit)\n"
          ],
          "name": "stderr"
        },
        {
          "output_type": "stream",
          "text": [
            " * Running on http://5f62fe9eaa62.ngrok.io\n",
            " * Traffic stats available on http://127.0.0.1:4040\n"
          ],
          "name": "stdout"
        },
        {
          "output_type": "stream",
          "text": [
            "127.0.0.1 - - [16/Jul/2021 13:51:13] \"\u001b[37mGET /tweets HTTP/1.1\u001b[0m\" 200 -\n",
            "127.0.0.1 - - [16/Jul/2021 14:30:53] \"\u001b[37mGET /tweets HTTP/1.1\u001b[0m\" 200 -\n"
          ],
          "name": "stderr"
        }
      ]
    }
  ]
}