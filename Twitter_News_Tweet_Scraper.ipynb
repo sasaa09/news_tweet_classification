{
  "nbformat": 4,
  "nbformat_minor": 0,
  "metadata": {
    "colab": {
      "name": "Twitter News Tweet Scraper.ipynb",
      "provenance": []
    },
    "kernelspec": {
      "name": "python3",
      "display_name": "Python 3"
    },
    "language_info": {
      "name": "python"
    }
  },
  "cells": [
    {
      "cell_type": "markdown",
      "metadata": {
        "id": "SMgUPdvLaFzn"
      },
      "source": [
        "# Twitter News Tweet Scraper"
      ]
    },
    {
      "cell_type": "markdown",
      "metadata": {
        "id": "c_a_2e04mja4"
      },
      "source": [
        "### Preparation"
      ]
    },
    {
      "cell_type": "code",
      "metadata": {
        "id": "49k2Sz5scn7V"
      },
      "source": [
        "consumer_key = '***'\n",
        "consumer_secret = '***'\n",
        "access_token = '***'\n",
        "access_token_secret = '***'"
      ],
      "execution_count": 1,
      "outputs": []
    },
    {
      "cell_type": "code",
      "metadata": {
        "id": "bXtT9VPicnPI"
      },
      "source": [
        "import tweepy\n",
        "\n",
        "auth = tweepy.OAuthHandler(consumer_key, consumer_secret)\n",
        "auth.set_access_token(access_token, access_token_secret)\n",
        "\n",
        "api = tweepy.API(auth)"
      ],
      "execution_count": 2,
      "outputs": []
    },
    {
      "cell_type": "code",
      "metadata": {
        "id": "hbzmQKd_f_JT"
      },
      "source": [
        "list_of_news_accounts = [\n",
        "                          'cnn',\n",
        "                          'nytimes',\n",
        "                          'bbcbreaking',\n",
        "                          'sportscenter',\n",
        "                          'espn',\n",
        "                          'bbcworld',\n",
        "                          'theeconomist',\n",
        "                          'telegraph',\n",
        "                          'guardiannews',\n",
        "                          'cnbc',\n",
        "                          'ajenglish',\n",
        "                          'breakingnews',\n",
        "                          'huffpost',\n",
        "                          'washingtonpost',\n",
        "                          'abc',\n",
        "                          'wsj',\n",
        "                          'time'\n",
        "                        ]"
      ],
      "execution_count": 3,
      "outputs": []
    },
    {
      "cell_type": "markdown",
      "metadata": {
        "id": "_XmNCWfNhzwq"
      },
      "source": [
        "### Extract"
      ]
    },
    {
      "cell_type": "code",
      "metadata": {
        "id": "S--zTYQAf-E7"
      },
      "source": [
        "tweets_raw = []\n",
        "for news_account in list_of_news_accounts:\n",
        "  tweets_in_news_account = tweepy.Cursor(\n",
        "      api.user_timeline,\n",
        "      screen_name=f'@{news_account}',\n",
        "      tweet_mode=\"extended\")\n",
        "  for tweet in tweets_in_news_account.items():\n",
        "    tweets_raw.append(tweet)\n",
        "\n",
        "len(tweets_raw)"
      ],
      "execution_count": null,
      "outputs": []
    },
    {
      "cell_type": "code",
      "metadata": {
        "id": "33DsnQ769xto",
        "colab": {
          "base_uri": "https://localhost:8080/"
        },
        "outputId": "3994466f-a902-470e-be24-db01c11af17e"
      },
      "source": [
        "len(tweets_raw)"
      ],
      "execution_count": 7,
      "outputs": [
        {
          "output_type": "execute_result",
          "data": {
            "text/plain": [
              "17820"
            ]
          },
          "metadata": {
            "tags": []
          },
          "execution_count": 7
        }
      ]
    },
    {
      "cell_type": "markdown",
      "metadata": {
        "id": "cCxVo2Fvh2N8"
      },
      "source": [
        "### Transform"
      ]
    },
    {
      "cell_type": "code",
      "metadata": {
        "id": "1-DhyajCh41c"
      },
      "source": [
        "import re\n",
        "\n",
        "tweets = []\n",
        "for tweet_raw in tweets_raw:\n",
        "  tweet_text = re.sub(r'http\\S+', '', tweet_raw.full_text)\n",
        "  tweet_text = re.sub(r'[^A-Za-z0-9 ]+', '', tweet_text)\n",
        "  tweet_text = tweet_text.replace('  ', ' ')\n",
        "  tweet = {\n",
        "      'url': 'https://twitter.com/twitter/statuses/' + tweet_raw.id_str,\n",
        "      'username': tweet_raw.user.name.lower(),\n",
        "      'text': tweet_text,\n",
        "      'time': tweet_raw.created_at,\n",
        "      'likes': tweet_raw.favorite_count,\n",
        "      'retweets': tweet_raw.retweet_count,\n",
        "      'profile_picture': tweet_raw.user.profile_image_url_https\n",
        "  }\n",
        "  tweets.append(tweet)"
      ],
      "execution_count": 8,
      "outputs": []
    },
    {
      "cell_type": "markdown",
      "metadata": {
        "id": "gMt1C78ymgI3"
      },
      "source": [
        "### Load"
      ]
    },
    {
      "cell_type": "code",
      "metadata": {
        "id": "N5Pnv8BAmhnZ"
      },
      "source": [
        "import pandas as pd"
      ],
      "execution_count": 9,
      "outputs": []
    },
    {
      "cell_type": "code",
      "metadata": {
        "id": "HyyIvIb0nEIe"
      },
      "source": [
        "df = pd.DataFrame.from_records(tweets)\n",
        "df"
      ],
      "execution_count": null,
      "outputs": []
    },
    {
      "cell_type": "code",
      "metadata": {
        "id": "e9BxC4Gco0vE"
      },
      "source": [
        "df.to_csv('news_tweets.csv', index=False)"
      ],
      "execution_count": 11,
      "outputs": []
    }
  ]
}